{
 "cells": [
  {
   "cell_type": "code",
   "execution_count": 16,
   "metadata": {},
   "outputs": [
    {
     "name": "stdout",
     "output_type": "stream",
     "text": [
      "0.5\n",
      "2\n",
      "after casting\n",
      "no errors \n",
      "4\n",
      "<class 'int'>\n",
      "after finishing everything for try\n"
     ]
    }
   ],
   "source": [
    "\n",
    "try :\n",
    "    num = input(\"enter number: \")\n",
    "    num = int(num)\n",
    "    print(5/10)\n",
    "    l = [1,2]\n",
    "    print(l[1])\n",
    "    print(\"after casting\")\n",
    "\n",
    "except ValueError as verr:\n",
    "    print(verr)\n",
    "    print(\"ValueError occured\")\n",
    "except ZeroDivisionError as zerr:\n",
    "    print(zerr)\n",
    "    print(\"ZeroDivisionError occured\")\n",
    "except Exception as e:\n",
    "    print(\"generic \")\n",
    "else:\n",
    "    print(\"no errors \")\n",
    "finally :\n",
    "    print(num)\n",
    "    print(type(num))\n",
    "\n",
    "print(\"after finishing everything for try\")"
   ]
  },
  {
   "cell_type": "code",
   "execution_count": 24,
   "metadata": {},
   "outputs": [
    {
     "name": "stdout",
     "output_type": "stream",
     "text": [
      "num2 is 0\n",
      "None\n"
     ]
    }
   ],
   "source": [
    "def takeTwoNumbers():\n",
    "    num1= input(\"enter num1\")\n",
    "    num2= input(\"enter num2\")\n",
    "    try:\n",
    "        num1= int(num1)\n",
    "        num2 = int(num2)\n",
    "        if num2 == 0 :\n",
    "            raise Exception(\"num2 is 0\")\n",
    "    except ValueError as verr:\n",
    "        print(\"can't cast string into int\")\n",
    "        return\n",
    "    except Exception as e:\n",
    "        print(e)\n",
    "        return\n",
    "    return num1, num2\n",
    "\n",
    "print(takeTwoNumbers())\n",
    "\n",
    "\n"
   ]
  },
  {
   "cell_type": "code",
   "execution_count": 27,
   "metadata": {},
   "outputs": [],
   "source": [
    "\n",
    "try:\n",
    "    openedFile = open (\"students.txt\" , \"w\")\n",
    "except:\n",
    "    print(\"file not found\")"
   ]
  },
  {
   "cell_type": "code",
   "execution_count": 41,
   "metadata": {},
   "outputs": [],
   "source": [
    "try:\n",
    "    num  = 4\n",
    "    openedFile = open (\"students.txt\" , \"w\")\n",
    "    openedFile.write(f\"{str(num)}\\n\")\n",
    "    openedFile.write(\"ay 7aga\\n\")\n",
    "    openedFile.writelines([\"1\\n\" , \"2\\n\"])\n",
    "    # openedFile.read() # makes error \n",
    "    openedFile.close()\n",
    "except Exception as e:\n",
    "    try:\n",
    "        logFile = open(\"logs.txt\" , \"a\")\n",
    "        logFile.write(f\"{e} \\n\")\n",
    "        logFile.close()\n",
    "    except:\n",
    "        print(\"file can't be opened\")\n"
   ]
  },
  {
   "cell_type": "code",
   "execution_count": 48,
   "metadata": {},
   "outputs": [
    {
     "name": "stdout",
     "output_type": "stream",
     "text": [
      "4\n",
      "\n",
      "<class 'str'>\n",
      "ay 7aga\n",
      "\n",
      "<class 'str'>\n",
      "ywe\n",
      "<class 'str'>\n",
      "['\\n', 'ay 7aga\\n', 'yweyte weuwey ewueue uweuwe\\n', '1\\n', '2\\n', '4\\n', 'ay 7aga\\n', '1\\n', '2\\n', '4\\n', 'ay 7aga\\n', '1\\n', '2\\n', '4\\n', 'ay 7aga\\n', '1\\n', '2\\n']\n",
      "<class 'list'>\n"
     ]
    }
   ],
   "source": [
    "try:\n",
    "    num  = 4\n",
    "    openedFile = open (\"students.txt\" , \"r\")\n",
    "    # data = openedFile.read() \n",
    "    data = openedFile.readline() \n",
    "    print(data)\n",
    "    print(type(data))\n",
    "    data = openedFile.readline() \n",
    "    print(data)\n",
    "    print(type(data))\n",
    "    data = openedFile.readline(3) \n",
    "    print(data)\n",
    "    print(type(data))\n",
    "    openedFile.seek(2)\n",
    "    data = openedFile.readlines() \n",
    "    print(data)\n",
    "    print(type(data))\n",
    "\n",
    "    # openedFile.write(f\"{str(num)}\\n\") # makes errorr\n",
    "    # openedFile.write(\"ay 7aga\\n\")\n",
    "    # openedFile.writelines([\"1\\n\" , \"2\\n\"])\n",
    "    openedFile.close()\n",
    "except Exception as e:\n",
    "    try:\n",
    "        logFile = open(\"logs.txt\" , \"a\")\n",
    "        logFile.write(f\"{e} \\n\")\n",
    "        logFile.close()\n",
    "    except:\n",
    "        print(\"file can't be opened\")\n"
   ]
  },
  {
   "cell_type": "code",
   "execution_count": 49,
   "metadata": {},
   "outputs": [
    {
     "name": "stdout",
     "output_type": "stream",
     "text": [
      "4\n",
      "\n",
      "<class 'str'>\n",
      "ay 7aga\n",
      "\n",
      "<class 'str'>\n",
      "ywe\n",
      "<class 'str'>\n",
      "['\\n', 'ay 7aga\\n', 'yweyte weuwey ewueue uweuwe\\n', '1\\n', '2\\n', '4\\n', 'ay 7aga\\n', '1\\n', '2\\n', '4\\n', 'ay 7aga\\n', '1\\n', '2\\n', '4\\n', 'ay 7aga\\n', '1\\n', '2\\n']\n",
      "<class 'list'>\n"
     ]
    }
   ],
   "source": [
    "try:\n",
    "    num  = 4\n",
    "    openedFile = open (\"students.txt\" , \"r+\")\n",
    "    # data = openedFile.read() \n",
    "    data = openedFile.readline() \n",
    "    print(data)\n",
    "    print(type(data))\n",
    "    data = openedFile.readline() \n",
    "    print(data)\n",
    "    print(type(data))\n",
    "    data = openedFile.readline(3) \n",
    "    print(data)\n",
    "    print(type(data))\n",
    "    openedFile.seek(2)\n",
    "    data = openedFile.readlines() \n",
    "    print(data)\n",
    "    print(type(data))\n",
    "    openedFile.write(\"test\")\n",
    "    openedFile.close()\n",
    "except Exception as e:\n",
    "    try:\n",
    "        logFile = open(\"logs.txt\" , \"a\")\n",
    "        logFile.write(f\"{e} \\n\")\n",
    "        logFile.close()\n",
    "    except:\n",
    "        print(\"file can't be opened\")\n"
   ]
  },
  {
   "cell_type": "code",
   "execution_count": 50,
   "metadata": {},
   "outputs": [
    {
     "name": "stdout",
     "output_type": "stream",
     "text": [
      "c:\\Users\\shima\\OneDrive\\Desktop\\Python cu\n"
     ]
    }
   ],
   "source": [
    "import os\n",
    "print(os.getcwd())"
   ]
  },
  {
   "cell_type": "code",
   "execution_count": 52,
   "metadata": {},
   "outputs": [
    {
     "name": "stdout",
     "output_type": "stream",
     "text": [
      "[[1], [2, 4], [3, 6, 9]]\n",
      "[[1], [2, 4], [3, 6, 9]]\n"
     ]
    }
   ],
   "source": [
    "tables = []\n",
    "num = int (input (\"enter number: \"))\n",
    "for table in range (1 , num+1):\n",
    "    tableList= []\n",
    "    for row in range (1,table+1):\n",
    "        tableList.append(table*row)\n",
    "    tables.append(tableList)\n",
    "print(tables)\n",
    "\n",
    "comprehensedTables = [[table*row for row in range (1,table+1)] for table in range (1,num+1)]\n",
    "print(comprehensedTables)\n"
   ]
  }
 ],
 "metadata": {
  "kernelspec": {
   "display_name": "Python 3",
   "language": "python",
   "name": "python3"
  },
  "language_info": {
   "codemirror_mode": {
    "name": "ipython",
    "version": 3
   },
   "file_extension": ".py",
   "mimetype": "text/x-python",
   "name": "python",
   "nbconvert_exporter": "python",
   "pygments_lexer": "ipython3",
   "version": "3.11.2"
  }
 },
 "nbformat": 4,
 "nbformat_minor": 2
}
