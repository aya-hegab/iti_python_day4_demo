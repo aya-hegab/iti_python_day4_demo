{
 "cells": [
  {
   "cell_type": "code",
   "execution_count": 10,
   "metadata": {},
   "outputs": [
    {
     "name": "stdout",
     "output_type": "stream",
     "text": [
      "constructor called\n",
      "mohammed is working\n",
      "constructor called\n",
      "shimaa is working\n",
      "2\n",
      "2\n",
      "2\n",
      "2\n",
      "10\n",
      "2\n"
     ]
    }
   ],
   "source": [
    "class Employee :\n",
    "    count = 0 # class variable shared between all employees that don't have instance variable with the same name\n",
    "    def __init__(self , name  , id):\n",
    "        self.name = name # instance variable \n",
    "        self.id = id\n",
    "        Employee.count +=1 # increments the class variable\n",
    "        print(\"constructor called\")\n",
    "    def work (obj):\n",
    "        print (f\"{obj.name} is working\")\n",
    "mohammed = Employee(id = 1 , name=\"mohammed\")\n",
    "mohammed.work()\n",
    "shimaa = Employee(id = 2 , name=\"shimaa\")\n",
    "shimaa.work()\n",
    "print(Employee.count ) #2 \n",
    "print(shimaa.count ) #2\n",
    "print(mohammed.count ) #2\n",
    "shimaa.count = 10 # instance var to only shimaa\n",
    "print(Employee.count ) #2 \n",
    "print(shimaa.count ) # 10\n",
    "print(mohammed.count ) # 2\n",
    "\n",
    "Employee.count = 5 \n",
    "print(Employee.count ) # 5\n",
    "print(shimaa.count ) # 10\n",
    "print(mohammed.count ) # 5\n",
    "\n",
    "\n",
    "\n"
   ]
  },
  {
   "cell_type": "code",
   "execution_count": 16,
   "metadata": {},
   "outputs": [
    {
     "name": "stdout",
     "output_type": "stream",
     "text": [
      "3200.0\n",
      "constructor called\n",
      "mohammed is working\n",
      "constructor called\n",
      "shimaa is working\n",
      "0\n",
      "1\n",
      "1\n",
      "<class '__main__.Employee'>\n",
      "<class '__main__.Employee'>\n",
      "<class '__main__.Employee'>\n"
     ]
    }
   ],
   "source": [
    "class Employee :\n",
    "    count = 0 # class variable shared between all employees that don't have instance variable with the same name\n",
    "    def __init__(self , name  , id):\n",
    "        self.name = name # instance variable \n",
    "        self.id = id\n",
    "        self.count +=1   # instance variable count\n",
    "        print(\"constructor called\")\n",
    "    def work (obj):\n",
    "        print (f\"{obj.name} is working\")\n",
    "    @classmethod\n",
    "    def classMethod (cls): # it's behavior ddepends on the class itself\n",
    "        print(cls)\n",
    "    @staticmethod\n",
    "    def calcSalary(sal , discount):\n",
    "        print (sal-sal*discount/100)\n",
    "\n",
    "\n",
    "Employee.calcSalary (4000 , 20)\n",
    "mohammed = Employee(id = 1 , name=\"mohammed\")\n",
    "mohammed.work()\n",
    "shimaa = Employee(id = 2 , name=\"shimaa\")\n",
    "shimaa.work()\n",
    "print(Employee.count ) #0\n",
    "print(shimaa.count ) #1\n",
    "print(mohammed.count ) #1\n",
    "Employee.classMethod()\n",
    "mohammed.classMethod()\n",
    "shimaa.classMethod()\n",
    "\n",
    "\n",
    "\n"
   ]
  },
  {
   "cell_type": "code",
   "execution_count": 12,
   "metadata": {},
   "outputs": [
    {
     "name": "stdout",
     "output_type": "stream",
     "text": [
      "1\n"
     ]
    }
   ],
   "source": [
    "count = 0\n",
    "count +=1\n",
    "print(count)"
   ]
  }
 ],
 "metadata": {
  "kernelspec": {
   "display_name": "Python 3",
   "language": "python",
   "name": "python3"
  },
  "language_info": {
   "codemirror_mode": {
    "name": "ipython",
    "version": 3
   },
   "file_extension": ".py",
   "mimetype": "text/x-python",
   "name": "python",
   "nbconvert_exporter": "python",
   "pygments_lexer": "ipython3",
   "version": "3.11.2"
  }
 },
 "nbformat": 4,
 "nbformat_minor": 2
}
